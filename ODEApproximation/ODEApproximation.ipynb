{
 "cells": [
  {
   "cell_type": "markdown",
   "id": "e90bea39",
   "metadata": {},
   "source": [
    "### 1. First order ODEs {-}\n",
    "(3 points) Convert the following differential equations to first order form. All variables are scalars.\n",
    "\n",
    "**(a)** $x'' = 6x' -2$\n",
    "$\n",
    "\\\\\n",
    "\\begin{align*}\n",
    "Y &=  \\begin{bmatrix}\n",
    "           y_{1} \\\\\n",
    "           y_{2} \\\\\n",
    "         \\end{bmatrix} y_1 = x, y_2 = x^{'}\\\\\n",
    "\\frac{dY}{dt} &= \\begin{bmatrix}\n",
    "           x^{'} \\\\\n",
    "           x^{''} \\\\\n",
    "         \\end{bmatrix} =  \\begin{bmatrix}\n",
    "           y_{2}\\\\\n",
    "           6y_2 - 2 \\\\\n",
    "         \\end{bmatrix}\n",
    "\\end{align*}\n",
    "$\n",
    "\n",
    "**(b)** $y''' + \\sin(y') - \\cos(y) = 1$\n",
    "$\n",
    "\\\\\n",
    "\\begin{align*}\n",
    "Z &=  \\begin{bmatrix}\n",
    "           z_{1} \\\\\n",
    "           z_{2} \\\\\n",
    "           z_{3}\n",
    "         \\end{bmatrix} z_1 = y, z_2 = y^{'}, z_3 = y^{''}\\\\\n",
    "\\frac{dZ}{dt} &= \\begin{bmatrix}\n",
    "           y^{'} \\\\\n",
    "           y^{''} \\\\\n",
    "           y^{'''}\n",
    "         \\end{bmatrix} =  \\begin{bmatrix}\n",
    "           z_{2}\\\\\n",
    "           z_{3}\\\\\n",
    "            1 - \\sin(z_2) + \\cos(z_1)\\\\\n",
    "         \\end{bmatrix}\n",
    "\\end{align*}\n",
    "$\n",
    "**(c)** $x'''\\sqrt{x'' x^2} - e^{x'} = \\sin(x)$\n",
    "$\n",
    "\\\\\n",
    "\\begin{align*}\n",
    "Z &=  \\begin{bmatrix}\n",
    "           z_{1} \\\\\n",
    "           z_{2} \\\\\n",
    "           z_{3}\n",
    "         \\end{bmatrix} z_1 = x, z_2 = x^{'}, z_3 = x^{''}\\\\\n",
    "\\frac{dZ}{dt} &= \\begin{bmatrix}\n",
    "           x^{'} \\\\\n",
    "           x^{''} \\\\\n",
    "           x^{'''}\n",
    "         \\end{bmatrix} =  \\begin{bmatrix}\n",
    "           z_{2}\\\\\n",
    "           z_{3}\\\\\n",
    "            \\frac{\\sin(z_1) + e^{z_2}}{\\sqrt{z_3 z_1^2}}\\\\\n",
    "         \\end{bmatrix}\n",
    "\\end{align*}\n",
    "$"
   ]
  },
  {
   "cell_type": "markdown",
   "id": "5e2cb621",
   "metadata": {},
   "source": [
    "### 2. Runge-Kutta Tableaus {-}\n",
    "(6 points) Convert the following Runge-Kutta tableaus to their equations or vice versa. State the number of stages of the method, whether it is implicit or explicit and check if it is a valid method. Justify your reasoning when it is not valid.\n",
    "\n",
    "**(a)** \n",
    "$$\\begin{array}{l|ll|}\n",
    "0 &0 & 0 \\\\\n",
    "\\frac23 & \\frac23 & 0 \\\\\n",
    "\\hline\n",
    "& \\frac14 & \\frac34\n",
    "\\end{array}$$"
   ]
  },
  {
   "cell_type": "markdown",
   "id": "7e329b62",
   "metadata": {},
   "source": [
    "\n",
    "This table has is a lower triangular matrix and thus is an explicit method. We create the equation: \n",
    "$\n",
    "\\begin{align*}\n",
    "Y_1 &= y_i\\\\\n",
    "Y_2 &= y_i + \\frac{2h}{3}f(t_{i}, Y_1)\\\\\n",
    "y_{i+1} &= y_i + \\frac{h}{4}(f(t_i, Y_1) + 3f(t_{i} + h*(2/3), Y_2))\n",
    "\\end{align*}\n",
    "\\\\\n",
    "$\n",
    "\n",
    "This is valid. As all $T_j$, $c_j$ and $b_k$ variables match."
   ]
  },
  {
   "cell_type": "markdown",
   "id": "b65b3d74",
   "metadata": {},
   "source": [
    "**(b)** \\begin{align*}\n",
    "Y_1 &= y_i \\\\\n",
    "Y_2 &= y_i + \\frac12 h f(t_i,Y_1) \\\\\n",
    "Y_3 &= y_i + \\frac12 h f(t_i,Y_1) + \\frac12 h f(t_i+h, Y_2) \\\\\n",
    "y_{i+1} &= y_i + \\frac13 h(f(t_i+\\frac23 h, Y_3) + f(t_i+h,Y_2) + f(t_i,Y_1))\n",
    "\\end{align*}"
   ]
  },
  {
   "cell_type": "markdown",
   "id": "296ac8b5",
   "metadata": {},
   "source": [
    "$$\\begin{array}{l|lll|}\n",
    "0 & 0 & 0 & 0 \\\\\n",
    "\\frac{1}{2} & \\frac12 & 0 & 0 \\\\\n",
    "1 & \\frac12 & \\frac12 & 0 \\\\\n",
    "\\hline\n",
    "& \\frac13 & \\frac13 & \\frac13\n",
    "\\end{array}$$\n",
    "This is not a valid method as the $T_j$ values do not match with the summed $c_j$ values. For instance, for $Y_2$, $t_i + h$ implies that $c_2 = 1$ but it equals $1/2$. Another instance, is for $f(T_3, Y_3)$ as the $T_3 = t_i + (2/3)h$ implies that the sum of all columns across row 3 is (2/3) but it is 1."
   ]
  },
  {
   "cell_type": "markdown",
   "id": "214ea82b",
   "metadata": {},
   "source": [
    "**(c)** $$\\begin{array}{l|lll|}\n",
    "0 & 0 & 0 & 0 \\\\\n",
    "1 & \\frac12 & 0 & 0 \\\\\n",
    "\\frac23 & \\frac12 & \\frac12 & 0 \\\\\n",
    "\\hline\n",
    "& \\frac13 & \\frac13 & \\frac13\n",
    "\\end{array}$$"
   ]
  },
  {
   "cell_type": "markdown",
   "id": "2b68f63f",
   "metadata": {},
   "source": [
    "This is not a valid table as $c_3 \\neq \\sum_{k = 1}^{s}a_{3,k}$. However, the resulting equation would be: \n",
    "$\n",
    "\\\\\n",
    "\\begin{align*}\n",
    "Y_1 &= y_{i}\\\\\n",
    "Y_2 &= y_{i} + \\frac{h}{2}f(t_i, Y_1)\\\\\n",
    "Y_3 &= y_{i} + \\frac{h}{2}f(t_i, Y_1) + f(t_i + h/2, Y_2)\\\\\n",
    "y_{i + 1} &= y_{i} + \\frac{h}{3}(f(t_i, Y_1) + f(t_i + h/2, Y_2) + f(t_i + h, Y_3)) \n",
    "\\end{align*}\n",
    "\\\\\n",
    "$\n",
    "As we can see the $c_j$ and $T_j$ values differ. Thus, not valid."
   ]
  },
  {
   "cell_type": "markdown",
   "id": "0aa10787",
   "metadata": {},
   "source": [
    "### 3. Explicit Euler {-}\n",
    "\n",
    "**(a)** (3 points) Write a Python function that computes the explicit Euler method for an array-valued ODE $\\mathbf{y}' = f(t,\\mathbf{y})$. The initial values $\\mathbf{y}(0)$ are an array of the according size. Further, the function takes as inputs the function $f$, step size $h$ and number of steps $n$."
   ]
  },
  {
   "cell_type": "code",
   "execution_count": 1,
   "id": "8d0a0190",
   "metadata": {},
   "outputs": [],
   "source": [
    "import numpy as np\n",
    "import matplotlib.pyplot as plt\n",
    "\n",
    "def Euler(fun,h,n,y0):\n",
    "    # input: function f(t,y) that takes an array as input y\n",
    "    #        step size h\n",
    "    #        number of steps to take n \n",
    "    #        (starting at 0, so the interval will be [0,b] with b=n*h)\n",
    "    #        array of initial values, y(0) = y0\n",
    "    # output: y of size [m,n+1] with m the size of y.\n",
    "    m = len(y0)\n",
    "    y = np.zeros((m, n)) \n",
    "    y[:,0] = y0\n",
    "    t_next = 0\n",
    "    for i in range(1, n):\n",
    "        t_next = t_next + h\n",
    "        y[:, i] = y[:, i - 1] + h*fun(t_next, y[:,i - 1]) \n",
    "        \n",
    "    \n",
    "    return y"
   ]
  },
  {
   "cell_type": "markdown",
   "id": "e1966082",
   "metadata": {},
   "source": [
    "**(b)** (2 points) Write the following function in Python and use your function `Euler` from (a) to plot the solution for the ODE with the given step sizes and intervals. Make one figure and plot both solution components in it. Add a legend for the solution components.   "
   ]
  },
  {
   "cell_type": "code",
   "execution_count": 7,
   "id": "248cd5dc",
   "metadata": {},
   "outputs": [
    {
     "name": "stdout",
     "output_type": "stream",
     "text": [
      "[5.         5.0069975  5.01401276 ... 7.27100049 7.26954415 7.26808821]\n",
      "[ 2.          1.96101     1.92231462 ... -3.         -3.\n",
      " -3.        ]\n"
     ]
    },
    {
     "data": {
      "image/png": "[encoded data removed]",
      "text/plain": [
       "<Figure size 432x288 with 1 Axes>"
      ]
     },
     "metadata": {
      "needs_background": "light"
     },
     "output_type": "display_data"
    }
   ],
   "source": [
    "def f_y1(t, y):\n",
    "    return 0.5*np.exp(-1*0.025*t)*y[1] - 0.03*y[0]*y[1]\n",
    "\n",
    "def f_y2(t, y): \n",
    "    return -0.8*np.exp(-1*0.025*t)*y[0] + 0.01*y[0]*y[1]\n",
    "\n",
    "#Notice that we assume that the input vector will be of size 2. \n",
    "\n",
    "y_0 = [5,2]\n",
    "\n",
    "y_1 = Euler(f_y1, 0.01, 4000, y_0)[0]\n",
    "y_2 = Euler(f_y2, 0.01, 4000, y_0)[1]\n",
    "\n",
    "t_eval = np.linspace(0,40, 4000)\n",
    "\n",
    "#plot vectors\n",
    "print(y_1)\n",
    "print(y_2)\n",
    "plt.plot(t_eval, y_1, 'b', label = 'y_1')\n",
    "plt.plot(t_eval, y_2, 'r', label = 'y_2')\n",
    "plt.ylim(-8,15)\n",
    "plt.legend(loc = \"upper right\")\n",
    "plt.show()"
   ]
  },
  {
   "cell_type": "markdown",
   "id": "849fb88c",
   "metadata": {},
   "source": [
    "**(c)** (4 points) Solve the following ODE system using your code `Euler` from (a). \n",
    "$$ \\mathbf{y}'' = 10A \\mathbf{y} \\qquad \\text{with} \\qquad A = N^2 \\begin{pmatrix} -1 & 1 & & & \\\\ 1 & -2 & \\ddots & & \\\\ & \\ddots & \\ddots & \\ddots & \\\\ & & \\ddots & -2 & 1 \\\\ & & & 1 & -1 \\end{pmatrix} \\in \\mathbb{R}^{N \\times N} $$\n",
    "$A$ is a tridiagonal matrix, where the subdiagonals are $1$ and the diagonal is $-2$, except for the first and last value, where it is $-1$. (This matrix comes from a spatial discretization of the one-dimensional wave equation.)   \n",
    "\n",
    "Use $N=10$, $h=0.001$ on the interval $[0,1]$ and initial values $\\mathbf{y}(0) = [0.1,0.2,\\dots,1]$ and $\\mathbf{y}'(0) = [0,\\dots,0]$. Plot all solution components in one figure."
   ]
  },
  {
   "cell_type": "code",
   "execution_count": 6,
   "id": "4e8f6432",
   "metadata": {},
   "outputs": [
    {
     "data": {
      "image/png": "[encoded data removed]",
      "text/plain": [
       "<Figure size 432x288 with 1 Axes>"
      ]
     },
     "metadata": {
      "needs_background": "light"
     },
     "output_type": "display_data"
    }
   ],
   "source": [
    "#We let w = y_i', thus converting to a first-order form\n",
    "#There is no initial function for the first euler: y_{i+1} = y_{i} + hw_i\n",
    "#and since y'(0) = [0,...0] we can continue without solving\n",
    "\n",
    "n = 10\n",
    "A = -2*np.eye(n) + np.eye(n, k=1) + np.eye(n, k=-1)\n",
    "A[0,0] = A[-1,-1] = -1\n",
    "A = 100*A\n",
    "y_0 = np.linspace(0, 1, 10, endpoint = True)\n",
    "def f_y(t, y):\n",
    "    #notice the t is not used, but kept in the parameter for consistency\n",
    "    #y is a N size vector\n",
    "    return 10*(A.dot(y))\n",
    "\n",
    "w = Euler(f_y, 0.0001, 1000, y_0)\n",
    "interval = np.linspace(0, 1, 1000)\n",
    "plt.plot(interval, w[0])\n",
    "plt.plot(interval, w[1])\n",
    "plt.plot(interval, w[2])\n",
    "plt.plot(interval, w[3])\n",
    "plt.plot(interval, w[4])\n",
    "plt.plot(interval, w[5])\n",
    "plt.plot(interval, w[6])\n",
    "plt.plot(interval, w[7])\n",
    "plt.plot(interval, w[8])\n",
    "plt.plot(interval, w[9])\n",
    "plt.show()"
   ]
  },
  {
   "cell_type": "markdown",
   "id": "e69ca5e7",
   "metadata": {},
   "source": [
    "**(d)** (3 points) For the ODE system\n",
    "$$ \\mathbf{y}' = \\begin{pmatrix} 1 & 2 & 3 \\\\ 4 & -150 & 6 \\\\ 7 & 8 & -200 \\end{pmatrix} \\mathbf{y} $$\n",
    "with initial values $\\mathbf{y}(0) = [1,1,1]$, first determine the maximum step size $h_{\\text{max}}$ from the necessary absolute stability conditions and and then use your function to plot the last solution component on the interval $[0,2]$ with step size $h = 0.5*h_{\\text{max}}$. Add another plot using $h=0.9*h_{\\text{max}}$. What do you notice, is the result stable and would this step size be sufficient to get a good solution?  "
   ]
  },
  {
   "cell_type": "code",
   "execution_count": 5,
   "id": "4496f78b",
   "metadata": {},
   "outputs": [
    {
     "name": "stdout",
     "output_type": "stream",
     "text": [
      "0.009948865595631979\n"
     ]
    },
    {
     "data": {
      "image/png": "[encoded data removed]",
      "text/plain": [
       "<Figure size 720x432 with 1 Axes>"
      ]
     },
     "metadata": {
      "needs_background": "light"
     },
     "output_type": "display_data"
    }
   ],
   "source": [
    "#Let us first find the eigen values of the matrix, taking then the maximum of the aboslute values \n",
    "#of those eigen values. \n",
    "\n",
    "A = np.zeros((3,3))\n",
    "A[:,0] = [1,4,7]\n",
    "A[:,1] = [2,-150,8]\n",
    "A[:,2] = [3,6,-200]\n",
    "\n",
    "eigvals, eigvecs = np.linalg.eig(A)\n",
    "\n",
    "max_eig = np.max(np.abs(eigvals))\n",
    "\n",
    "#Since h_max <= 2/|max_eig| by the ODE depending on the problem shown.\n",
    "h_max = (2/max_eig)\n",
    "print(h_max)\n",
    "#Define the function\n",
    "def f(t,y):\n",
    "    return A.dot(y)\n",
    "\n",
    "y_0 = [1,1,1]\n",
    "m_1 = int(2/(h_max*0.5))\n",
    "m_2 = int(2/(h_max*0.9))\n",
    "y_1 = Euler(f, h_max*0.5, m_1, y_0)\n",
    "y_2 = Euler(f, h_max*0.9, m_2, y_0)\n",
    "interval_1 = np.linspace(0, 2, m_1)\n",
    "interval_2 = np.linspace(0, 2, m_2)\n",
    "plt.figure(figsize=(10,6))\n",
    "plt.plot(interval_1, y_1[2], c = 'b', label = \"h*0.5\")\n",
    "plt.plot(interval_2, y_2[2], c = 'r', label = \"h*0.9\")\n",
    "plt.legend(loc = \"upper right\")\n",
    "plt.show()\n"
   ]
  },
  {
   "cell_type": "markdown",
   "id": "067239a6",
   "metadata": {},
   "source": [
    "Since the step size cannot exceed the provided bound, we know that second step size closer to that bound is by \"less stable\" perhaps explaining the oscillation effect. "
   ]
  }
 ],
 "metadata": {
  "kernelspec": {
   "display_name": "Python 3 (ipykernel)",
   "language": "python",
   "name": "python3"
  },
  "language_info": {
   "codemirror_mode": {
    "name": "ipython",
    "version": 3
   },
   "file_extension": ".py",
   "mimetype": "text/x-python",
   "name": "python",
   "nbconvert_exporter": "python",
   "pygments_lexer": "ipython3",
   "version": "3.10.5"
  }
 },
 "nbformat": 4,
 "nbformat_minor": 5
}
