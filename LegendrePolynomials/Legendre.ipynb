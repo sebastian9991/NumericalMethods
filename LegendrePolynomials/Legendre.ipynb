{
 "cells": [
  {
   "cell_type": "code",
   "execution_count": 2,
   "id": "9e40b989",
   "metadata": {},
   "outputs": [],
   "source": [
    "import numpy as np"
   ]
  },
  {
   "cell_type": "markdown",
   "id": "e90bea39",
   "metadata": {},
   "source": [
    "### 1. Legendre Polynomials {-}\n",
    "\n",
    "(5 points) The Legendre polynomials satisfy\n",
    "          $$ \\int_{-1}^1 \\phi_j(x) \\phi_k(x) dx = \\begin{cases} 0 & j \\neq k \\cr \\frac 2{2j+1} & j=k . \\end{cases} $$ \n",
    " Suppose that the best fit problem is given on the interval $[a,b]$.\n",
    "Show that with the transformation $t = \\frac 12 [(b-a)x + (a+b)]$ and a slight change of notation, we have\n",
    "$$ \\int_{a}^b \\tilde{\\phi}_j(t) \\tilde{\\phi}_k(t) dt = \\begin{cases} 0                            & j \\neq k \\cr \\frac {b-a}{2j+1} & j=k\\end{cases}\\;, \n",
    "$$ \n",
    "where $\\tilde{\\phi}$ denote this new set of Legendre polynomials defined for this interval $[a, b]$ for $t$. In other words, $\\tilde{\\phi}_j(t) = \\phi_j(x)$."
   ]
  },
  {
   "cell_type": "markdown",
   "id": "d3e976ce",
   "metadata": {},
   "source": [
    "We solve this by easily transforming the integral bounds to be on the interval $[b,a]$. \n",
    "\n",
    "Notice for $t = \\frac{1}{2}[(b - a)x + (a + b)]$ \n",
    "$$\n",
    "\\frac{dx}{dt} = \\frac{1}{2}(b - a)\n",
    "$$\n",
    "\n",
    "\n",
    "\\begin{align}\n",
    " \\int_{-1}^1 \\phi_j(x) \\phi_k(x) dx &=\\\\ \n",
    "  \\int_{a}^{b} \\phi_j(\\frac{2t - a - b}{b - a}) \\phi_k(\\frac{2t - a - b}{b - a})\\frac{1}{2}(b - a)dt &=\\\\ \n",
    "  \\int_{a}^{b}\\bar{\\phi_j(t)}\\bar{\\phi_k(t)} &= \\begin{cases}\n",
    "  0 & j \\neq k\\\\\n",
    "  \\frac{b-a}{2j + 1} & j = k\n",
    "  \\end{cases}\n",
    "\\end{align}\n"
   ]
  },
  {
   "cell_type": "markdown",
   "id": "0aa10787",
   "metadata": {},
   "source": [
    "### 2. Derivative approximation with Taylor polynomials {-}\n",
    "\n",
    "**(a)** (5 points) Construct the Taylor polynomial approximations of order $n=3$ for both $f(x_0 - h)$ and $f(x_0 - 2h)$ expanded about $x_0$ (with their remainder terms written as $O(h^4)$). Using the approximations show that $f'(x_0)$ can be approximated by \n",
    "$$ f'(x_0) \\approx \\frac{3f(x_0)-4f(x_0-h)+f(x_0-2h)}{2h}. $$"
   ]
  },
  {
   "cell_type": "markdown",
   "id": "a1ca07d9",
   "metadata": {},
   "source": [
    "$$\n",
    "f(x_0 - h) = f(x_0) - hf^{'}(x_0) + \\frac{h^2}{2!}f^{''}(x_0) - \\frac{h^{3}}{3!}f^{3}(x_0) + O(h^4)\n",
    "$$\n",
    "$$\n",
    "f(x_0 - 2h) = f(x_0) - 2hf^{'}(x_0) + \\frac{4}{2!}h^2f^{''}(x_0) - \\frac{8}{3}h^{3}f^{3}(x_0) + O(h^4)\n",
    "$$\n",
    "\n",
    "\\begin{align}\n",
    "f(x_0 - 2h) - 4f(x_0 - h) &=\\\\\n",
    "f(x_0) - 2hf^{'}(x_0) + \\frac{4}{2!}h^2f^{''}(x_0) - \\frac{8}{3}h^{3}f^{3}(x_0) \\\\\n",
    "- 4f(x_0) +  4hf^{'}(x_0) - \\frac{4h^2}{2!}f^{''}(x_0) + \\frac{4h^{3}}{3!}f^{3}(x_0) &= \\\\\n",
    "-3f(x_0) + 2hf^{'}(x_0) - \\frac{4}{3}h^{3}f^{''}(x_0) + 3f(x_0) &= f(x_0 - 2h) - 4f(x_0 - h) + 3f(x_0)\\\\\n",
    "f^{'}(x_0) = \\frac{1}{2h}(f(x_0 - 2h) - 4f(x_0 - h) + 3f(x_0)) + \\frac{4}{3!}h^{3}f^{''}(x_0)\\frac{1}{2h}\n",
    "\\end{align}\n"
   ]
  },
  {
   "cell_type": "markdown",
   "id": "e1966082",
   "metadata": {},
   "source": [
    "**(b)** (2 points) State the error term for the approximation in (a). What is the order of the error of your approximation formula?"
   ]
  },
  {
   "cell_type": "markdown",
   "id": "c7259e95",
   "metadata": {},
   "source": [
    "If we truncate the Taylor series before $O(4)$ then the error term is simply: \n",
    "\n",
    "$$\n",
    "e(h) = |f'(x_0) - \\frac{1}{2h}(f(x_0 - 2h) - 4f(x_0 - h) + 3f(x_0))| \\approx \\frac{2}{3!}h^{2}f^{''}(x_0)\n",
    "$$"
   ]
  },
  {
   "cell_type": "markdown",
   "id": "e69ca5e7",
   "metadata": {},
   "source": [
    "**(c)** (2 points) Calculate the actual error for the formula above for $f(x) = x^2\\sin(x)$ at $x=2$ and $h=0.05$. "
   ]
  },
  {
   "cell_type": "markdown",
   "id": "e705ac47",
   "metadata": {},
   "source": [
    "\n",
    "\n",
    "$$\n",
    "e(h) \\leq |\\frac{4}{3!}(0.05)^{2}(-(2)^2\\sin(2) + 4(2)\\cos(2) + 2\\sin(2))| = -8.57\\times10^{-3}  \n",
    "$$"
   ]
  },
  {
   "cell_type": "markdown",
   "id": "c0d324ca",
   "metadata": {},
   "source": [
    "### 3. Richardson Extrapolation {-}\n",
    "\n",
    "**(a)**  (5 points) Find $N_2(h)$, the Richardson's extrapolation approximation with error order $\\mathcal{O}(h^4)$, using $f'(x_0)\\approx\\frac{f(x_0+h)-f(x_0-h)}{2h}= N_1(h)$ for $f(x)=x^{2}\\sin(x)$ at $x=2$ with $h=0.1$. Show all your work."
   ]
  },
  {
   "cell_type": "markdown",
   "id": "01e340a0",
   "metadata": {},
   "source": [
    "\n",
    "\\begin{align}\n",
    "N_1(h) &= \\frac{(2 + 0.1)^{2}\\sin(2 + 0.1) - (2 - 0.1)^{2}\\sin(2 - 0.1)}{2(0.1)} = 1.953\\\\\n",
    "N_1(h/2) &= \\frac{(2 + 0.1/2)^{2}\\sin(2 + 0.1/2) - (2 - 0.1/2)^{2}\\sin(2 - 0.1/2)}{2(0.1/2)} = 1.9677 \\\\\n",
    "N_1(h/4) &= \\frac{(2 + 0.1/4)^{2}\\sin(2 + 0.1/4) - (2 - 0.1/4)^{2}\\sin(2 - 0.1/4)}{2(0.1/4)} = 1.9713 \\\\\n",
    "N_1(h/8) &= \\frac{(2 + 0.1/8)^{2}\\sin(2 + 0.1/8) - (2 - 0.1/8)^{2}\\sin(2 - 0.1/8)}{2(0.1/8)} = 1.9722\n",
    "\\end{align}\n",
    "\n",
    "\n",
    "\n",
    "\\begin{align}\n",
    "N_2(h) &= N_1(h/2) + \\frac{N_1(h/2) - N_1(h)}{4 - 1}\\\\\n",
    "       &= 1.9677 + \\frac{1.9677 - 1.954}{3}\\\\\n",
    "       &= 1.97006\n",
    "\\end{align}\n"
   ]
  },
  {
   "cell_type": "markdown",
   "id": "4f98b7db",
   "metadata": {},
   "source": [
    "**(b)** (5 points) Write a code to compute the Richardson's extrapolation for the formula $N_1(h)$ in (a). The function should return the approximation value $N_n(h)$, given an input function $f$, the desired evaluation point $x$, step size $h$, and table depth $n$. In the function documentation there is a small example for how to call the function. You may assume that your function is a scalar function -- it only takes one scalar value as input (no vectors!).   \n",
    "*Hint: you may either construct a table or use a recursive call.*"
   ]
  },
  {
   "cell_type": "code",
   "execution_count": 5,
   "id": "4d17d7b3",
   "metadata": {},
   "outputs": [
    {
     "name": "stdout",
     "output_type": "stream",
     "text": [
      "0.5403023058681203\n",
      "1.942890293094024e-14\n"
     ]
    }
   ],
   "source": [
    "def richardson(f,x,h,n):\n",
    "# richardson - A function that computes Richardsons's extrapolation.\n",
    "# Inputs:\n",
    "#   f - The input function, as a function of x\n",
    "#    x - The x-value where the derivative is computed \n",
    "#    h - Discrete step size\n",
    "#    n - Extrapolation table depth, i.e. n=4 -> compute N_4, 4x4 table\n",
    "# Outputs:\n",
    "#    approx - approximation value $N_n(h)$ from Richardson extrapolation table (value in lower right corner of the table)\n",
    "\n",
    "#Create a multidimensional array (nxn) \n",
    "\n",
    "    values_N = np.full((n,n), None) \n",
    "    \n",
    "    for j in range(1, n + 1): \n",
    "        for i in range(0, n - j + 1): \n",
    "            if(j < 2): \n",
    "                values_N[i][j - 1] = (f(x + h / (2**(i))) - f(x - h / (2**(i)))) / (2*(h/(2**(i))))\n",
    "            else:\n",
    "                values_N[i + j - 1][j - 1] = values_N[i + j - 1][j - 2] + (values_N[i + j - 1][j - 2] - values_N[i + j - 2][j - 2]) / (4**(j - 1) - 1)\n",
    "\n",
    "\n",
    "    approx = values_N[n - 1][n - 1]\n",
    "    return approx\n",
    "\n",
    "\n",
    "# Example call: \n",
    "def f(x): return np.sin(x)\n",
    "#\n",
    "approx = richardson(f, 1, 0.1, 7)\n",
    "print(approx)\n",
    "# (np.cos(1) - approx) should return 5.34e-14\n",
    "print(np.cos(1) - approx)"
   ]
  },
  {
   "cell_type": "markdown",
   "id": "cb5b81d7",
   "metadata": {},
   "source": [
    "**(c)** (2 points) Use the code above to compute $N_i(h)$ for $f(x) = x^2 \\sin(x)$ at $x=2$ with $h=0.1$ for $i=1,2,3$. Print the errors between $f'(x)$ and $N_i(h)$, for $i=1,2,3$."
   ]
  },
  {
   "cell_type": "code",
   "execution_count": 6,
   "id": "e33ff705",
   "metadata": {},
   "outputs": [
    {
     "name": "stdout",
     "output_type": "stream",
     "text": [
      "0.019552409264322668\n",
      "5.173336807606788e-06\n",
      "1.2792011894191546e-10\n"
     ]
    }
   ],
   "source": [
    "#Define the function: \n",
    "def f(x): \n",
    "    return (x**2)*np.sin(x) \n",
    "\n",
    "def f_prime(x): \n",
    "    return 2*x*np.sin(x) +  (x**(2))*np.cos(x)\n",
    "\n",
    "for i in range(1, 4): \n",
    "    print(f_prime(2) - richardson(f, 2, 0.1, i))\n"
   ]
  }
 ],
 "metadata": {
  "kernelspec": {
   "display_name": "Python 3 (ipykernel)",
   "language": "python",
   "name": "python3"
  },
  "language_info": {
   "codemirror_mode": {
    "name": "ipython",
    "version": 3
   },
   "file_extension": ".py",
   "mimetype": "text/x-python",
   "name": "python",
   "nbconvert_exporter": "python",
   "pygments_lexer": "ipython3",
   "version": "3.10.5"
  }
 },
 "nbformat": 4,
 "nbformat_minor": 5
}
