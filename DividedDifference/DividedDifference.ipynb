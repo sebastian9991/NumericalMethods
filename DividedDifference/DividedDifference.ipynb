{
 "cells": [
  {
   "cell_type": "markdown",
   "id": "681d56a8",
   "metadata": {},
   "source": [
    "\n",
    "\n",
    "### 1. We are given four data points $(-1,1),(0,1),(1,2),(2,3)$ from a function $f(x)$ and want to find an interpolant in Newton form. Instead of using divided differences, we want to construct the interpolating equation system as on Slide 12 of Chapter10 and solve for the coefficients $c$.\n",
    "\n",
    "**(a)** (3 points) Write the matrix A in Python for the four points provided for the interpolating problem $Ac = y$. Solve for c with <tt>numpy.linalg.solve</tt>. Write down the polynomial interpolant $p(x)$ in Newton form."
   ]
  },
  {
   "cell_type": "code",
   "execution_count": 1,
   "id": "87ea39c3",
   "metadata": {},
   "outputs": [
    {
     "name": "stdout",
     "output_type": "stream",
     "text": [
      "[ 1.          0.          0.5        -0.16666667]\n"
     ]
    }
   ],
   "source": [
    "import numpy as np\n",
    "import matplotlib.pyplot as plt\n",
    "\n",
    "x = np.array((-1,0,1,2))\n",
    "y = np.array((1,1,2,3))\n",
    "\n",
    "# construct matrix A\n",
    "# hint: start with zeros and fill it in, A = np.zeros((n,n))\n",
    "A = np.zeros((4,4))\n",
    "A[:,0] = [1,1,1,1]\n",
    "A[:,1] = [0,1,2,3]\n",
    "A[:,2] = [0,0,2,6]\n",
    "A[:,3] = [0,0,0,6]\n",
    "# solve for c\n",
    "c = np.linalg.solve(A, y)\n",
    "print(c)"
   ]
  },
  {
   "cell_type": "markdown",
   "id": "bef073e1",
   "metadata": {},
   "source": [
    "The resulting interpolant in Newton form is: $p(x) = 1 + 0.5(x+1)(x) - 0.1666(x+1)(x)(x-1)$"
   ]
  },
  {
   "cell_type": "markdown",
   "id": "0aa10787",
   "metadata": {},
   "source": [
    "**(b)** (2 points) We now got two additional points $(3,4), (4,1)$ for the function $f$. Make another matrix $A_2$ reusing the previous matrix $A$ and solve for $c_2$ for a new Newton polynomial $p_2(x)$. Write down the Newton form of $p_2(x)$."
   ]
  },
  {
   "cell_type": "code",
   "execution_count": 2,
   "id": "c90f2ec8",
   "metadata": {},
   "outputs": [
    {
     "name": "stdout",
     "output_type": "stream",
     "text": [
      "[[  1.   0.   0.   0.   0.   0.]\n",
      " [  1.   1.   0.   0.   0.   0.]\n",
      " [  1.   2.   2.   0.   0.   0.]\n",
      " [  1.   3.   6.   6.   0.   0.]\n",
      " [  1.   4.  12.  24.  24.   0.]\n",
      " [  1.   5.  20.  60. 120. 120.]]\n",
      "[ 1.00000000e+00 -3.55271368e-16  5.00000000e-01 -1.66666667e-01\n",
      "  4.16666667e-02 -4.16666667e-02]\n"
     ]
    }
   ],
   "source": [
    "x2 = np.array((-1,0,1,2,3,4))\n",
    "y2 = np.array((1,1,2,3,4,1))\n",
    "\n",
    "# construct A2 from A and the additional info\n",
    "L = [[1,4,12,24],[1,5,20,60]]\n",
    "A_2 = np.vstack([A,L])\n",
    "H = np.zeros((6,2))\n",
    "H[:,0] = [0,0,0,0,24,120]\n",
    "H[:,1] = [0,0,0,0,0,120]\n",
    "A_2 = np.hstack([A_2,H])\n",
    "# solve for c2\n",
    "print(A_2)\n",
    "c2 = np.linalg.solve(A_2, y2)\n",
    "print(c2)"
   ]
  },
  {
   "cell_type": "markdown",
   "id": "0f156d95",
   "metadata": {},
   "source": [
    "The resulting interpolant in Newton form is: \n",
    "$p_2(x) = 1 - 3.55\\times 10^{-16}(x+1) + 5.00\\times 10^{-1}(x+1)(x) - 1.66\\times 10^{-1}(x+1)(x)(x-1) + 4.16\\times^{-2}(x+1)(x)(x-1)(x-2) - 4.167\\times 10^{-2}(x+1)(x)(x-1)(x-2)(x-3)$"
   ]
  },
  {
   "cell_type": "markdown",
   "id": "7a6a933f",
   "metadata": {},
   "source": [
    "**(c)** (3 points) Define a Newton interpolator function that takes coefficients $c$, abscissae $x$ and evaluation points $x_{eval}$ as input and returns the function values $y$. Plot the data points and both interpolants $p(x)$ and $p_2(x)$ from before in a figure. Use at least 100 evaluation points to get smooth curves. Add a legend to identify $p$ and $p_2$."
   ]
  },
  {
   "cell_type": "code",
   "execution_count": 3,
   "id": "efc87507",
   "metadata": {},
   "outputs": [
    {
     "data": {
      "text/plain": [
       "<matplotlib.legend.Legend at 0x7fa7a5389db0>"
      ]
     },
     "execution_count": 3,
     "metadata": {},
     "output_type": "execute_result"
    },
    {
     "data": {
      "image/png": "[encoded data removed]",
      "text/plain": [
       "<Figure size 432x288 with 1 Axes>"
      ]
     },
     "metadata": {
      "needs_background": "light"
     },
     "output_type": "display_data"
    }
   ],
   "source": [
    "def newton(c,x,x_eval):\n",
    "    # your code for y\n",
    "    y = np.zeros(x_eval.size)\n",
    "    term = np.zeros(x_eval.size) + 1\n",
    "    for i in range(0, x.size):\n",
    "        y += c[i]*term\n",
    "        term = (x_eval - x[i])*term\n",
    "    return y\n",
    "\n",
    "# make a plot\n",
    "x_eval = np.linspace(-1, 4,100)\n",
    "x_eval_1 = np.linspace(-1,3,100)\n",
    "p = newton(c, x, x_eval_1)\n",
    "p2 = newton(c2,x2,x_eval)\n",
    "plt.plot(x_eval_1, p, c = 'g')\n",
    "plt.plot(x_eval,p2, c = 'b')\n",
    "plt.scatter([-1,0,1,2],[1,1,2,3], c = 'b')\n",
    "plt.scatter([-1,0,1,2,3,4], [1,1,2,3,4,1], c= 'r')\n",
    "plt.legend(['p', 'p2'])\n",
    "\n"
   ]
  },
  {
   "cell_type": "markdown",
   "id": "0cc86818",
   "metadata": {},
   "source": [
    "### 2. General framework to use Newton interpolation.\n",
    "\n",
    "**(a)** (3 points) Write a function that uses divided differences to return the Newton coefficients $c$. You can store the table as a matrix, filling in only the lower triangle."
   ]
  },
  {
   "cell_type": "code",
   "execution_count": 4,
   "id": "70b3315b",
   "metadata": {},
   "outputs": [],
   "source": [
    "def divDif(x,y):\n",
    "    # your code to set up the divided difference table\n",
    "    #assuming a one-to-one correspondence between the two arrays \n",
    "    divided_table = np.zeros((x.size,y.size))\n",
    "    divided_table[:,0] = y\n",
    "    divided_table[0][1] = None\n",
    "    for i in range(1, x.size):\n",
    "        for j in range(1, y.size):\n",
    "            if (i - j < 0):\n",
    "                divided_table[i][j] = None\n",
    "            else:\n",
    "                divided_table[i][j] = (divided_table[i][j - 1] - divided_table[i - 1][j-1]) / (x[i] - x[i - j])\n",
    "            \n",
    "    \n",
    "    print(divided_table)\n",
    "    c = np.diag(divided_table, 0)\n",
    "    return c # return the coefficients c from the table\n"
   ]
  },
  {
   "cell_type": "markdown",
   "id": "3e937e1d",
   "metadata": {},
   "source": [
    "**(b)** (2 points) Test your code for the function $f(x) = \\ln(x)$. Use the function from (a) to compute $c$ for the abscissae $x=[1,2,3,4]$. Then use the function from exercise 1(c) to evaluate the resulting polynomial $p_3(x)$ on at least 100 points on the interval $[1,4]$. Plot it in a figure and compare it to the built-in log function <tt>np.log(x)</tt> evaluated at the same points and plottet into the same figure."
   ]
  },
  {
   "cell_type": "code",
   "execution_count": 5,
   "id": "3e58c95d",
   "metadata": {},
   "outputs": [
    {
     "name": "stdout",
     "output_type": "stream",
     "text": [
      "[[ 0.                 nan  0.          0.        ]\n",
      " [ 0.69314718  0.69314718         nan         nan]\n",
      " [ 1.09861229  0.40546511 -0.14384104         nan]\n",
      " [ 1.38629436  0.28768207 -0.05889152  0.02831651]]\n",
      "[ 0.          0.69314718 -0.14384104  0.02831651]\n"
     ]
    },
    {
     "data": {
      "text/plain": [
       "[<matplotlib.lines.Line2D at 0x7fa7a52abe50>]"
      ]
     },
     "execution_count": 5,
     "metadata": {},
     "output_type": "execute_result"
    },
    {
     "data": {
      "image/png": "[encoded data removed]",
      "text/plain": [
       "<Figure size 432x288 with 1 Axes>"
      ]
     },
     "metadata": {
      "needs_background": "light"
     },
     "output_type": "display_data"
    }
   ],
   "source": [
    "x = np.array((1,2,3,4))\n",
    "y = np.log(x)\n",
    "\n",
    "# get c from DivDif\n",
    "c = divDif(x,y)\n",
    "print(c)\n",
    "# plot ln(x) and the interpolant with newton(c,x,x_eval) on the interval [1,4]\n",
    "x_ev = np.linspace(1,4,100)\n",
    "p = newton(c,x,x_ev)\n",
    "plt.plot(x_ev, np.log(x_ev), c = 'b')\n",
    "plt.plot(x_ev, p, c = 'r')"
   ]
  },
  {
   "cell_type": "markdown",
   "id": "d17738b4",
   "metadata": {},
   "source": [
    "**(c)** (3 points) For $n+1$ equidistant points $[x_0,...,x_n]$ on an interval $[a,b]$ it holds that \n",
    "\\begin{equation*} \n",
    "max_{s \\in [a,b]} \\left | \\prod_{j=0}^n (s-x_j)\\right | \\leq \\frac{n!}{4}\\left (\\frac{(b-a)}{n}\\right )^{n+1}. \n",
    "\\end{equation*}\n",
    "Use this and the interpolation error bound formula to find an upper bound for the error \n",
    "\\begin{equation*}\n",
    "e_3 =\\max_{1\\leq x \\leq 4} | \\ln(x) - p_3(x)|. \n",
    "\\end{equation*}\n",
    "Also plot the error $e_3$ for the approximation in (b) over the interval $[1,4]$ and compare it with your error bound."
   ]
  },
  {
   "cell_type": "markdown",
   "id": "91942fe8",
   "metadata": {},
   "source": [
    "By definition, \n",
    "\\begin{align*}\n",
    "e_3 &=\\max_{1\\leq x \\leq 4} | \\ln(x) - p_3(x)|\\\\ \n",
    "&=\\max_{t\\in [1,4]} \\frac{|f^{3+1}(t)|}{(3 + 1)!}\\max_{s \\in[1,4] }|\\Pi_{j = 0}^{3}(s - x_j)|\\\\\n",
    "&\\leq \\max_{t\\in [1,4]} \\frac{|f^{3+1}(t)|}{(3 + 1)!} \\frac{3!}{4}(\\frac{b - a}{3})^{3+1} \\\\\n",
    "&= \\max_{t\\in [1,4]} \\frac{|6x^{-4}|}{4!} \\frac{3!}{4}(\\frac{3}{3})^{4} \\\\\n",
    "&= \\max_{t\\in [1,4]} \\frac{|6x^{-4}|}{4!} \\frac{3!}{4} \\\\\n",
    "&= \\max_{t\\in [1,4]} |x^{-4}| \\frac{3}{8} \\\\\n",
    "&= \\frac{3}{8}\n",
    "\\end{align*}"
   ]
  },
  {
   "cell_type": "code",
   "execution_count": null,
   "id": "a418e526",
   "metadata": {},
   "outputs": [],
   "source": [
    "# plot error on the interval [1,4]"
   ]
  },
  {
   "cell_type": "code",
   "execution_count": 6,
   "id": "c4253e14",
   "metadata": {},
   "outputs": [
    {
     "data": {
      "text/plain": [
       "<matplotlib.lines.Line2D at 0x7fa7a53238e0>"
      ]
     },
     "execution_count": 6,
     "metadata": {},
     "output_type": "execute_result"
    },
    {
     "data": {
      "image/png": "[encoded data removed]",
      "text/plain": [
       "<Figure size 432x288 with 1 Axes>"
      ]
     },
     "metadata": {
      "needs_background": "light"
     },
     "output_type": "display_data"
    }
   ],
   "source": [
    "plt.plot(x_ev, np.log(x_ev), c = 'b')\n",
    "plt.plot(x_ev, p, c = 'r')\n",
    "plt.axhline(y = 0.375, c = 'g', linestyle = 'dotted')"
   ]
  },
  {
   "cell_type": "markdown",
   "id": "6a02eb9d",
   "metadata": {},
   "source": [
    "**(d)** (2 points) Copy your code from (a) and extend it to work with repeated abscissae with derivative values as well. Assume the input to be sorted, where the derivatives are given in increasing order for each data point, e.g. input $x = [1,1,1,2,2]$, $y = [1,2,3,0.1,0.2]$ would refer to $f(1) = 1$, $f'(1) = 2$, $f''(1) = 3$, $f(2) = 0.1$, $f'(2) = 0.2$."
   ]
  },
  {
   "cell_type": "code",
   "execution_count": 7,
   "id": "63bec198",
   "metadata": {},
   "outputs": [],
   "source": [
    "def divDifExt(x,y):\n",
    "    # your code to set up the dividied difference table with repeating abscissae\n",
    "     #assuming a one-to-one correspondence between the two arrays \n",
    "    divided_table = np.zeros((x.size,y.size))\n",
    "    \n",
    "    #Now that we have osculating data points we code so the first row corresponds to the correct f(x_i)\n",
    "    l = 0\n",
    "    divided_table[0][1] = None\n",
    "    for k in range(1, x.size):\n",
    "        if(x[k] == x[k-1]):\n",
    "            divided_table[k][0] = y[l]\n",
    "        else:\n",
    "            l = k\n",
    "            divided_table[k][0] = y[l]\n",
    "             \n",
    "   \n",
    "    for i in range(1, x.size):\n",
    "        for j in range(1, y.size):\n",
    "            if (i - j < 0):\n",
    "                divided_table[i][j] = None\n",
    "            elif (x[i] != x[i - j]):\n",
    "                divided_table[i][j] = (divided_table[i][j - 1] - divided_table[i - 1][j-1]) / (x[i] - x[i - j])\n",
    "            else:\n",
    "                divided_table[i][j] = y[j] / (np.math.factorial(j - 1))\n",
    "                \n",
    "\n",
    "    print(divided_table)       \n",
    "    c = np.diag(divided_table, 0)\n",
    "    return c # return the coefficients c from the table"
   ]
  },
  {
   "cell_type": "markdown",
   "id": "2cbbab7a",
   "metadata": {},
   "source": [
    "### 3. Extended divided differences.\n",
    "\n",
    "**(a)** (2 points) For some function we have the extended divided difference table of the form \n",
    "\n",
    "| $$i$$ | $$x_i$$ | $$f[ \\cdot ]$$ | $$f[\\cdot, \\cdot]$$ | $$f[\\cdot, \\cdot, \\cdot]$$ | $$f[\\cdot, \\cdot, \\cdot, \\cdot]$$\n",
    "| :- | :- | :- | :- | :- | :- |\n",
    "0 | 5.0 | $$f[x_0]$$ | | | \n",
    "1 | 5.0 | $$f[x_1]$$ | $$f[x_0,x_1]$$ | |\n",
    "2 | 6.0 | 4.0 | 5.0 | -3.0 |\n",
    "3 | 4.0 | 2.0 | $$f[x_2,x_3]$$ | $$f[x_1, x_2,x_3]$$ | $$f[x_0, x_1, x_2,x_3]$$\n",
    "\n",
    "Fill in the unknown entries of the table:"
   ]
  },
  {
   "cell_type": "markdown",
   "id": "e2c78ece",
   "metadata": {},
   "source": [
    "$$f[x_0] = -1.0 $$\n",
    "$$f[x_1] = -1.0$$\n",
    "$$f[x_0,x_1] = 8.0 $$\n",
    "$$f[x_2,x_3] = 1.0$$\n",
    "$$f[x_1, x_2,x_3] = 4.0$$\n",
    "$$f[x_0, x_1, x_2,x_3] = -7.0 $$"
   ]
  },
  {
   "cell_type": "markdown",
   "id": "9e1d90a9",
   "metadata": {},
   "source": [
    "**(b)** (1 point) What is the osculating polynomial resulting from this table?  \n"
   ]
  },
  {
   "cell_type": "markdown",
   "id": "f43e6f7a",
   "metadata": {},
   "source": [
    "\n",
    "$p(x) = -1.0 + 8.0(x - 5.0) - 3.0(x - 5.0)(x - 5.0) - 7.0(x - 5.0)(x - 5.0)(x - 6.0)  $"
   ]
  },
  {
   "cell_type": "markdown",
   "id": "7a778502",
   "metadata": {},
   "source": [
    "**(c)** (3 points) Interpolate $f(x) = ln(x)$ by passing a cubic function through $x_i = (0.1, 1, 2, 2.9)$. Evaluate the interpolant at $x=1.5$ and compare the result against the exact value and against the value of the osculating Hermite cubic through the points $x_i = (1,1,2,2)$. Explain you observation by looking at the error terms for both interpolating cubic polynomials.   \n",
    "You can either use your codes from above or solve this by hand."
   ]
  },
  {
   "cell_type": "markdown",
   "id": "498a043a",
   "metadata": {},
   "source": [
    "*your answer*"
   ]
  },
  {
   "cell_type": "code",
   "execution_count": 8,
   "id": "493f7407",
   "metadata": {},
   "outputs": [
    {
     "name": "stdout",
     "output_type": "stream",
     "text": [
      "[[-2.30258509         nan  0.          0.        ]\n",
      " [ 0.          2.55842788         nan         nan]\n",
      " [ 0.69314718  0.69314718 -0.98172668         nan]\n",
      " [ 1.06471074  0.4128484  -0.14752568  0.29792893]]\n",
      "[[ 0.                 nan  0.          0.        ]\n",
      " [ 0.          1.                 nan         nan]\n",
      " [ 0.69314718  0.69314718 -0.30685282         nan]\n",
      " [ 0.69314718  1.          0.30685282  0.61370564]]\n",
      "[0.48773014]\n",
      "[0.34657359]\n",
      "0.4054651081081644\n"
     ]
    }
   ],
   "source": [
    "x_cubic = np.asarray([0.1,1,2,2.9])\n",
    "y_cubic = np.log(x_cubic)\n",
    "\n",
    "x_hermit = np.asarray([1,1,2,2])\n",
    "y_hermit = np.asarray([np.log(1), 1, np.log(2), 1/2])\n",
    "\n",
    "c_cubic = divDif(x_cubic, y_cubic)\n",
    "c_hermit = divDifExt(x_hermit, y_hermit)\n",
    "\n",
    "eval_cubic = newton(c_cubic, x_cubic, np.asarray(1.5))\n",
    "eval_hermit = newton(c_hermit, x_hermit, np.asarray(1.5))\n",
    "eval_actual = np.log(1.5)\n",
    "print(eval_cubic)\n",
    "print(eval_hermit)\n",
    "print(eval_actual)"
   ]
  },
  {
   "cell_type": "markdown",
   "id": "af74edf9-6466-46e0-879e-46dcf1dfb1db",
   "metadata": {},
   "source": [
    "## Error terms for Hermit approximation vs Cubic approximation \n",
    "\n",
    "$$abs = \\frac{|ln(1.5) - p_{her}(1.5)|}{ln(1.5)} = \\frac{|ln(1.5) - 0.3465|}{ln(1.5)} = 0.1454$$\n",
    "$$abs = \\frac{|ln(1.5) - p_{cub}(1.5)|}{ln(1.5)} = \\frac{|ln(1.5) - 0.4877|}{ln(1.5)} = 0.2028$$\n",
    "\n",
    "As we can see the Hermit has approximation a better relative error than the cubic. "
   ]
  },
  {
   "cell_type": "code",
   "execution_count": null,
   "id": "820c564f-1b59-4afe-81d9-e221bc35f6cc",
   "metadata": {},
   "outputs": [],
   "source": []
  }
 ],
 "metadata": {
  "kernelspec": {
   "display_name": "Python 3 (ipykernel)",
   "language": "python",
   "name": "python3"
  },
  "language_info": {
   "codemirror_mode": {
    "name": "ipython",
    "version": 3
   },
   "file_extension": ".py",
   "mimetype": "text/x-python",
   "name": "python",
   "nbconvert_exporter": "python",
   "pygments_lexer": "ipython3",
   "version": "3.10.5"
  }
 },
 "nbformat": 4,
 "nbformat_minor": 5
}
