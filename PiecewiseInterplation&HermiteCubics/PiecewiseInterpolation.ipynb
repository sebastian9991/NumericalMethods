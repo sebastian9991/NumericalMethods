{
 "cells": [
  {
   "cell_type": "markdown",
   "id": "e90bea39",
   "metadata": {},
   "source": [
    "### 1. Linear piecewise interpolation {-}\n",
    "\n",
    "So far, we have only looked at the built-in implementations of piecewise interpolation. Do not use these for this assignment but build your own (You can use scipy.interpolate.interp1d or others if you want to check your solution against it).\n",
    "\n",
    "**(a)** (3 points) Implement a piecewise linear interpolation function that takes as input arrays $xs$ and $ys$ of length $n+1$ which hold the data pairs $(x_i,y_i)$, i=0,...,n and an array of evaluation points $x_{eval}$ and returns the linear interpolation function values, $v(x_{eval})= y_{eval}$ as output. Assume $xs$ is sorted as $xs[0] <xs[1]<...<xs[n]$."
   ]
  },
  {
   "cell_type": "code",
   "execution_count": 1,
   "id": "46948c7d",
   "metadata": {},
   "outputs": [],
   "source": [
    "import numpy as np\n",
    "import matplotlib.pyplot as plt\n",
    "\n",
    "#ASSUME: That the given points will always be within one interval given.\n",
    "#So, the function is not robust.\n",
    "def find_index_interval(arr, elem):\n",
    "    n = len(arr)\n",
    "    left, right = 0, n - 1\n",
    "    \n",
    "    #Notice: We iterate through the ordered array untill we find the right, left index\n",
    "    #for which the elem exists between.\n",
    "    while left <= right: \n",
    "        mid = (left + right) // 2\n",
    "        \n",
    "        if arr[mid] == elem: \n",
    "            if(mid + 1 >= len(arr)):\n",
    "                return mid - 1, mid\n",
    "            return mid, mid + 1\n",
    "        \n",
    "        if arr[mid] < elem:\n",
    "            left = mid + 1\n",
    "        else: \n",
    "            right = mid - 1\n",
    "            \n",
    "\n",
    "            \n",
    "        \n",
    "    return right, left\n",
    "    \n",
    "\n",
    "def piecewise_linear(xs,ys,x_eval):\n",
    "    # piecewise_linear constructs a linear interpolation from the data points (xs[i],ys[i])\n",
    "    # input: xs - array of length n+1, holding abscissae\n",
    "    #        ys - array of length n+1, holding values f(xs[i])\n",
    "    #        x_eval - array of arbitrary length, holding evaluation points\n",
    "    # output: y_eval - array of same length as x_eval, holding function values v(x_eval)\n",
    "    \n",
    "    # your code\n",
    "    y_eval = []\n",
    "    for i in range(len(x_eval)):\n",
    "        index_left,index_right = find_index_interval(xs, x_eval[i])\n",
    "        y_eval.append(ys[index_left] + ((ys[index_right] - ys[index_left])/(xs[index_right] - xs[index_left]))*(x_eval[i] - xs[index_left]))\n",
    "           \n",
    "    return y_eval"
   ]
  },
  {
   "cell_type": "markdown",
   "id": "9dcf23ce",
   "metadata": {},
   "source": [
    "**(b)** (2 points) Construct a piecewise linear interpolation $v(x)$ for the function $f(x) = 1/x$ on the interval $[0,100]$ using your code from above. Use the abscissae $x_{absc}=[1,2,4,...81,100]$ as given below. Evaluate and plot $f(x)$ and $v(x)$ on 1000 equidistant data points on the interval $[0,100]$ and compute the maximum error among these points."
   ]
  },
  {
   "cell_type": "code",
   "execution_count": 2,
   "id": "87ea39c3",
   "metadata": {},
   "outputs": [
    {
     "name": "stdout",
     "output_type": "stream",
     "text": [
      "[  1.   4.   9.  16.  25.  36.  49.  64.  81. 100.]\n"
     ]
    },
    {
     "data": {
      "text/plain": [
       "[<matplotlib.lines.Line2D at 0x7fdc987dead0>]"
      ]
     },
     "execution_count": 2,
     "metadata": {},
     "output_type": "execute_result"
    },
    {
     "data": {
      "image/png": "[encoded data removed]",
      "text/plain": [
       "<Figure size 432x288 with 1 Axes>"
      ]
     },
     "metadata": {
      "needs_background": "light"
     },
     "output_type": "display_data"
    }
   ],
   "source": [
    "import scipy.interpolate as interp\n",
    "x_absc = np.linspace(1,10,10)**2\n",
    "print(x_absc)\n",
    "\n",
    "\n",
    "def f(x):\n",
    "    return 1/x\n",
    "\n",
    "# your code for the interpolation, plot, and maximum error\n",
    "y_absc = f(x_absc)\n",
    "x_eval = np.linspace(1, 100, 1000)\n",
    "y_eval = f(x_eval)\n",
    "v_eval = piecewise_linear(x_absc, y_absc, x_eval)\n",
    "\n",
    "#Plot our results\n",
    "\n",
    "plt.plot(x_eval, y_eval, c = 'b')\n",
    "plt.plot(x_eval, v_eval, c = 'r')\n"
   ]
  },
  {
   "cell_type": "markdown",
   "id": "9f9c3b04",
   "metadata": {},
   "source": [
    "**(c)** (2 points) What is the best theoretical error bound for the approximation $v(x)$ to $f(x)$ in (b)?"
   ]
  },
  {
   "cell_type": "markdown",
   "id": "f52fcc80",
   "metadata": {},
   "source": [
    "## Error Bound: \n",
    "\n",
    "Let us define error following from the definition: \n",
    "\n",
    "$e(x) = |v(x) - f(x)| \\leq \\frac{h^2}{8}||f^{''}(x)||_{\\infty}$ where $h = \\max_i(x_{i-1} - x_i)$\n",
    "\n",
    "Let $h = 19, x_i = 100, x_{i - 1} = 81$ thus out best theoretical error bound: \n",
    "\n",
    "$e(x) \\leq \\frac{19^2}{8}|\\frac{2}{(81)^3}| = 1.698\\times10^{-4}$"
   ]
  },
  {
   "cell_type": "markdown",
   "id": "0aa10787",
   "metadata": {},
   "source": [
    "### 2. Hermite Cubics {-}\n",
    "\n",
    "The set $b(x)$ of 4 Hermite cubic basis functions with their coefficients $f(x_0),f(x_1),f'(x_0),f'(x_1)$ on interval $x \\in [0,1]$ with $x_0 = 0$ and $x_1 = 1$ can also be written in terms of Bernstein Polynomials $B_{n,j}$,\n",
    "\\begin{equation*} \n",
    "B_{n,j}(x) =  \\binom{n}{k} x^j (1-x)^{n-j}, \n",
    "\\end{equation*}\n",
    "with degree $n=3$ as\n",
    "\\begin{equation*}\n",
    "b(x) = f(x_0) B_{3,0}(x) + \\left ( f(x_0) + \\frac{1}{3} f'(x_0) \\right ) B_{3,1}(x) + \\left ( f(x_1) -\\frac{1}{3} f'(x_1) \\right ) B_{3,2}(x) + f(x_1) B_{3,3}(x).\n",
    "\\end{equation*}"
   ]
  },
  {
   "cell_type": "markdown",
   "id": "6c1c6e06",
   "metadata": {},
   "source": [
    "**(a)** (3 points) Verify that this form corresponds to the expression using mother Hermite cubic functions defined on Slide 49 and 51 of Chapter 11.   \n",
    "*Hint: The second halfs of the mother functions have to be translated from the interval $[-1,0]$ to $[0,1]$ to get all four functions on one interval.*"
   ]
  },
  {
   "cell_type": "markdown",
   "id": "14a16d79",
   "metadata": {
    "jp-MarkdownHeadingCollapsed": true,
    "tags": []
   },
   "source": [
    "Verify that b(x) follows from scaling and translation of the mother functions of the hermit cubic: \n",
    "\n",
    "$$\n",
    "\\begin{align}\n",
    " b(x) &= \\sum_{k = 0}^{1}(f(t_k)\\xi_k(x) + f^{'}(t_k)\\eta_k(x))\\\\\n",
    "      &= f(x_0)B_{3,0}(x) + (f(x_0) + (1/3)f^{'}(x_0))B_{3,1}(x) + (f(x_1) - 1/3 f^{'}(x_1))B_{3,2}(x) + f(x_1)B_{3,3}\\\\\n",
    "      &= f(x_0)[B_{3,0}(x) + B_{3,1}(x)] + f^{'}(x_0)[1/3 B_{3,1}(x)] + f(x_1)[B_{3,2}(x) + B_{3,3}(x)] + f^{'}(x_1)[-1/3 B_{3,2}(x)]\\\\\n",
    "\\end{align}\n",
    "$$\n",
    "Thus, \n",
    "$$\n",
    "\\begin{align}\n",
    " \\xi_{0}(x) = B_{3,0}(x) + B_{3,1}(x) \\\\\n",
    " \\xi_{1}(x) = B_{3,2}(x) + B_{3,3}(x) \\\\\n",
    " \\eta_{0}(x) = (1/3)B_{3,1}(x)\\\\\n",
    " \\eta_{1}(x) = (-1/3)B_{3,2}(x)\n",
    "\\end{align}\n",
    "$$\n",
    "\n",
    "Now we check that these follow from their respective mother Hermit cubics:\n",
    "\n",
    "$$\n",
    "\\begin{align}\n",
    " \\xi_{0}(x) &=\\binom{3}{0}x^{0}(1 - x)^{3} + \\binom{3}{1}x(1 - x)^2\\\\\n",
    " &=1 - 3x^2 + 2x^3\\,\\,\\,, x \\in [0,1] \\blacksquare\n",
    "\\end{align}\n",
    "$$\n",
    "\n",
    "$$\n",
    "\\begin{align}\n",
    " \\xi_{1}(x) = \\binom{3}{2}x^{2}(1 - x)^{1} + \\binom{3}{3}x^{3}(1 - x)^0\\\\\n",
    " = 3x^2 - 2x^3\\,\\,\\,, x\\in [0,1]\\\\\n",
    " z = x - 1\\,\\,\\,, -1 \\leq z \\leq 0 \\rightarrow 0 \\leq x \\leq 1\\,\\,\\,, \\blacksquare\n",
    "\\end{align}\n",
    "$$\n",
    "\n",
    "$$\n",
    "\\begin{align}\n",
    " \\eta_{0}(x) = (1/3)\\binom{3}{1}x^{1}(1 - x)^{2}\\\\\n",
    " = x - 2x^2 + x^3 \\blacksquare\n",
    "\\end{align}\n",
    "$$\n",
    "\n",
    "$$\n",
    "\\begin{align}\n",
    " \\eta_{1}(x) = (-1/3)\\binom{3}{2}x^{2}(1 - x)^{1}\\\\\n",
    " = -x^2 + x^3\\,\\,\\,, x\\in [0,1]\\\\\n",
    " z = x - 1\\,\\,\\,, -1 \\leq z \\leq 0 \\rightarrow 0 \\leq x \\leq 1\\,\\,\\,, \\blacksquare\n",
    "\\end{align}\n",
    "$$"
   ]
  },
  {
   "cell_type": "markdown",
   "id": "e1966082",
   "metadata": {},
   "source": [
    "**(b)** (3 points) We will denote the coefficients for the Bernstein Polynomials as $c_0 = f(x_0), c_1 = f(x_0)+\\frac{1}{3}f'(x_0), c_2 = f(x_1)-\\frac{1}{3}f'(x_1), c_3 = f(x_1)$. Write an algorithm to evaluate $b(x)$ with $x \\in [0,1]$ for an array of evaluation points $x_{eval}$ with the 4 given data values $c = [c_0,c_1,c_2,c_3]$."
   ]
  },
  {
   "cell_type": "code",
   "execution_count": 9,
   "id": "9df34bab",
   "metadata": {
    "tags": []
   },
   "outputs": [],
   "source": [
    "import math\n",
    "def b(c,x_eval):\n",
    "    # input: y - array with 4 coefficients for the Hermite Cubic, ordered c = [c_0,c_1,c_2,c_3]\n",
    "    #        x_eval - array of arbitrary length of evalulation points on the interval [0,1]\n",
    "    # output: y_eval - array of same length as x_eval with function values b(x_eval) = y_eval.\n",
    "    \n",
    "    # your code\n",
    "    y_eval = np.zeros(len(x_eval))\n",
    "    x_eval = np.asarray(x_eval)\n",
    "    n = len(c) - 1\n",
    "    for j in range(len(c)):\n",
    "       y_eval = y_eval + c[j]*math.comb(n, j)*(np.power(x_eval, j))*np.power(1 - x_eval, n - j)\n",
    "    \n",
    "    return y_eval"
   ]
  },
  {
   "cell_type": "markdown",
   "id": "466f5b53",
   "metadata": {},
   "source": [
    "**(c)** (2 points) The full piecewise Hermite cubic polynomial is $$ v(x) = \\sum_{k=0}^r b_k(x)$$, with $b_k(x)$ being translations and scalings of the terms in $b(x)$ onto the intervals $[x_k,x_{k+1}]$. What is the correct expression for $b_k(x)$ on the interval $[x_k,x_{k+1}]$ in terms of the Bernstein polynomials $B_{3,j}(x)$, $j=0,...3$?   \n",
    "*Hint: The correct scalings and translations for $\\xi_k(x)$ and $\\eta_k(x)$ on Slide 51, Chapter 11, are detailed in the Book, page 478.*"
   ]
  },
  {
   "cell_type": "markdown",
   "id": "5c755d06",
   "metadata": {},
   "source": [
    "\n",
    "$$\n",
    "b_k(x) =  \\begin{cases} \n",
    "      0, & x \\in [x_0, x_1] \\rightarrow x\\in [t_0, t_0], k = 0\\\\\n",
    "      f(x_0)[B_{3,0}((x - x_0)(x_1 - x_0)) + B_{3,1}((x - x_0)(x_1 - x_0))] + f^{'}(x_0)[1/3 B_{3,1}((x - x_0)(x_1 - x_0)(1/(x_1 - x_0)], &  x\\in [x_1, x_2] \\rightarrow x \\in [t_0, t_1], k = 1\\\\\n",
    "      0, k = 3\n",
    "   \\end{cases}\n",
    "$$\n"
   ]
  },
  {
   "cell_type": "markdown",
   "id": "5ac75060",
   "metadata": {},
   "source": [
    "**(d)** (3 points) Write an algorithm to evaluate the piecewise Hermite Cubic polynomial $v(x)$ with  $x \\in [x_0,x_r]$ using <tt>b(c,x_eval)</tt> from (b), given the data set $xs = [x_0,x_1,...,x_r]$, $ys = [f(x_0),f(x_1),...,f(x_r)]$, and $dys = [f'(x_0),f'(x_1),...,f'(x_r)]$ with $x_0 = a$, $x_r = b$ for an array of evaluation points $x_{eval}$. Plot the resulting function for the given data set $xs,ys,dys$ on the interval $[xs[0],xs[r]]$ for at least 100 evaluation points."
   ]
  },
  {
   "cell_type": "code",
   "execution_count": 10,
   "id": "35d6c732",
   "metadata": {},
   "outputs": [
    {
     "data": {
      "text/plain": [
       "[<matplotlib.lines.Line2D at 0x7fdc90476740>]"
      ]
     },
     "execution_count": 10,
     "metadata": {},
     "output_type": "execute_result"
    },
    {
     "data": {
      "image/png": "[encoded data removed]",
      "text/plain": [
       "<Figure size 432x288 with 1 Axes>"
      ]
     },
     "metadata": {
      "needs_background": "light"
     },
     "output_type": "display_data"
    }
   ],
   "source": [
    "def piecewise_hermite(xs,ys,dys,x_eval):\n",
    "    # input: xs - array of r+1 data points\n",
    "    #        ys - array of r+1 function values ys[i] = f(xs[i])\n",
    "    #        dys - array of r+1 function derivatives dys[i] = f'(xs[i])\n",
    "    #        x_eval - array of arbitrary length of evalulation points on the interval [xs[0],xs[r+1]]\n",
    "    # output: y_eval - array of same length as x_eval, with values of the interpolant v(x_eval) = y_eval\n",
    "    \n",
    "    \n",
    "    #! use function b(c,x)\n",
    "    # your code\n",
    "    #Compute c values: \n",
    "    r = (len(xs) - 2) / 2\n",
    "    c = []\n",
    "    c.append(ys[0])\n",
    "    c.append(ys[0] + dys[0]/3)\n",
    "    c.append(ys[1] - dys[1]/3)\n",
    "    c.append(ys[1])\n",
    "        \n",
    "    \n",
    "    #Compute y_eval:\n",
    "    y_eval = []\n",
    "    for i in range(len(x_eval)):\n",
    "        left,right = find_index_interval(xs, x_eval[i])\n",
    "        if(left == 1 and right == 2):\n",
    "            x_new = (x_eval[i] - xs[left])/(xs[right] - xs[left])\n",
    "            y_eval.append(b(c, [x_new])[0])\n",
    "        else:\n",
    "            y_eval.append(0)\n",
    "        \n",
    "        \n",
    "        \n",
    "    return y_eval\n",
    "\n",
    "x = np.asarray([0,0.5,3,5])\n",
    "y = np.asarray([2,3,0.1,3])\n",
    "dy = np.asarray([2.5,-0.5,0.2,2])\n",
    "\n",
    "# plot the resulting piecewise polynomial for the given data\n",
    "x_eval = np.linspace(0, 5, 100)\n",
    "y_eval = piecewise_hermite(x, y, dy, x_eval)\n",
    "plt.plot(x_eval, y_eval, c = 'g')"
   ]
  },
  {
   "cell_type": "markdown",
   "id": "c0d324ca",
   "metadata": {},
   "source": [
    "### 3. Parametric Interpolation & Bezier Curves {-}\n",
    "\n",
    "**(a)** (3 points) Now we want to draw a parametric curve. For this, we are given a set of data points $cx$ and $cy$ in a specific order. Use your linear interpolation code from Exercise 1 to construct a linear 2d curve interpolation. Test it for the given data $cx$ and $cy$ by plotting the interpolant with parameter value $t \\in [0,1]$ at min. 100 parameter points and plot a scatter plot of the data points with markers ('ro') in the same figure."
   ]
  },
  {
   "cell_type": "code",
   "execution_count": 5,
   "id": "71bc451d",
   "metadata": {},
   "outputs": [
    {
     "data": {
      "text/plain": [
       "[<matplotlib.lines.Line2D at 0x7fdc9050b3d0>]"
      ]
     },
     "execution_count": 5,
     "metadata": {},
     "output_type": "execute_result"
    },
    {
     "data": {
      "image/png": "[encoded data removed]",
      "text/plain": [
       "<Figure size 432x288 with 1 Axes>"
      ]
     },
     "metadata": {
      "needs_background": "light"
     },
     "output_type": "display_data"
    }
   ],
   "source": [
    "# Given data points, to be interpolated in the given order\n",
    "cx = np.asarray([1.0,2.0,5.0,3.0])\n",
    "cy = np.asarray([2.0,3.0,2.0,4.0])\n",
    "\n",
    "# use piecewise_linear to make a parametric interpolation of the data\n",
    "# plot the resulting linear interpolation curve, evaluated at min. 100 points\n",
    "t = np.linspace(0,1,len(cx))\n",
    "t_eval = np.linspace(0, 1,100)\n",
    "l_cx = piecewise_linear(t,cx,t_eval)\n",
    "l_cy = piecewise_linear(t,cy,t_eval)\n",
    "\n",
    "\n",
    "plt.plot(cx,cy,'ro')\n",
    "plt.plot(l_cx,l_cy)\n",
    "\n"
   ]
  },
  {
   "cell_type": "markdown",
   "id": "4f98b7db",
   "metadata": {},
   "source": [
    "**(b)** (3 points) The points given above are data points and guide points, given as $cx = [x_0, x_0+\\alpha_0, x_1-\\alpha_1, x_1]$ and $cy = [y_0,y_0+\\beta_0,y_1-\\beta_1,y1]$ for a Bezier curve interpolation, we will denote with $h_0$. Note the relationship between the guide points, the coefficients for the Bernstein polynomials and the function derivatives as defined in Exercise 2(a).   \n",
    "Plot the Hermite cubic interpolating curve $h_0$ for the data points and guide points $cx$, $cy$ as given in (a) using your function <tt>b(c,x_eval)</tt> defined in 2(b). Also plot the piecewise linear interpolation of the guide points on top of it."
   ]
  },
  {
   "cell_type": "code",
   "execution_count": 6,
   "id": "4d17d7b3",
   "metadata": {},
   "outputs": [
    {
     "data": {
      "text/plain": [
       "[<matplotlib.lines.Line2D at 0x7fdc905a05b0>]"
      ]
     },
     "execution_count": 6,
     "metadata": {},
     "output_type": "execute_result"
    },
    {
     "data": {
      "image/png": "[encoded data removed]",
      "text/plain": [
       "<Figure size 432x288 with 1 Axes>"
      ]
     },
     "metadata": {
      "needs_background": "light"
     },
     "output_type": "display_data"
    }
   ],
   "source": [
    "# your code\n",
    "herm_cx = b(cx, t_eval)\n",
    "herm_cy = b(cy, t_eval)\n",
    "\n",
    "plt.plot(cx,cy, 'ro')\n",
    "plt.plot(herm_cx, herm_cy)\n",
    "plt.plot(l_cx, l_cy)"
   ]
  },
  {
   "cell_type": "markdown",
   "id": "cb5b81d7",
   "metadata": {},
   "source": [
    "**(c)** (3 points) We want to connect the curve $h_0$ from (b) with another Bezier curve $h_2$. For the curve $h_2$ two additional data points and guide points are given to you, $cx2 = [x_2,x_2+\\alpha_2, x_3-\\alpha_3, x_3]$ and $cy2 = [y_2,y_2+\\beta_2, y_3 - \\beta_3, y_3]$. For the connection we need an additional Bezier curve $h_1$ on the interval $[x_1,x_2]$. Specify the correct guide points for it and plot all three of them together in a plot using the function <tt>b(c,x_eval)</tt> or specify the correct derivatives to use the function <tt>piecewise_hermite(x,y,dy,x_eval)</tt> to draw all three curve segments together in a plot."
   ]
  },
  {
   "cell_type": "markdown",
   "id": "5ede5a86",
   "metadata": {},
   "source": [
    " *- Your guide points or derivative calculation -*"
   ]
  },
  {
   "cell_type": "code",
   "execution_count": 7,
   "id": "e33ff705",
   "metadata": {},
   "outputs": [
    {
     "data": {
      "text/plain": [
       "[<matplotlib.lines.Line2D at 0x7fdc90402680>]"
      ]
     },
     "execution_count": 7,
     "metadata": {},
     "output_type": "execute_result"
    },
    {
     "data": {
      "image/png": "[encoded data removed]",
      "text/plain": [
       "<Figure size 432x288 with 1 Axes>"
      ]
     },
     "metadata": {
      "needs_background": "light"
     },
     "output_type": "display_data"
    }
   ],
   "source": [
    "# data and guide points for h_2(t)\n",
    "cx2 = np.asarray([5,4,2.5,1])\n",
    "cy2 = np.asarray([3.0,1.0,3.0,4.0])\n",
    "\n",
    "#data and guide points for h_1(t): \n",
    "cx1 = np.asarray([3.0, 4.5, 3.75, 5])\n",
    "cy1 = np.asarray([4.0,6.0,2.25,3.0])\n",
    "\n",
    "# evaluation of the three curve segments\n",
    "# plot of the three curve segments\n",
    "hermit_cx2 = b(cx2, t_eval)\n",
    "hermit_cy2 = b(cy2, t_eval)\n",
    "\n",
    "hermit_cx1 = b(cx1, t_eval)\n",
    "hermit_cy1 = b(cy1, t_eval)\n",
    "\n",
    "plt.plot(herm_cx, herm_cy, c = 'g')\n",
    "plt.plot(hermit_cx1, hermit_cy1, c = 'r')\n",
    "plt.plot(hermit_cx2, hermit_cy2, c ='b')"
   ]
  },
  {
   "cell_type": "markdown",
   "id": "a4f6ba0f",
   "metadata": {},
   "source": [
    "##### Sidenote:\n",
    "The most popular way to evaluate Bezier curves (used in about every implementation) is the so-called De-Casteljau algorithm, a recursive method instead of the direct evaluation of Bernstein polynomials or the general polynomials as we did above. Extended to curves of higher degree it is numerically more stable but is computationally more expensive. It allows to evaluate a point on a curve by using only a sequence of linear approximations. It was invented in the 1960s for automotive design, back when engineers designed their cars with a pencil and ruler.   \n",
    "The implementation below does the same as $b(c,x_{eval})$ if $c$ has 4 points. The number of points can be arbitrarily chosen, producing curves of higher degree with additional control points/ guide points"
   ]
  },
  {
   "cell_type": "code",
   "execution_count": 8,
   "id": "94c12c25",
   "metadata": {},
   "outputs": [],
   "source": [
    "# given the same coefficients as for b(coefs,x_eval)\n",
    "def de_casteljau(coefs, x_eval):\n",
    "    # start with the coefficients\n",
    "    beta = list(coeffs) # values in this list are overridden\n",
    "    n = len(beta)\n",
    "    for j in range(1, n):\n",
    "        for k in range(n - j):\n",
    "            # in each recursive step the interval between two points is divided in two and a linear approximation is done\n",
    "            beta[k] = beta[k] * (1 - x_eval) + beta[k + 1] * x_eval\n",
    "    return beta[0]"
   ]
  }
 ],
 "metadata": {
  "kernelspec": {
   "display_name": "Python 3 (ipykernel)",
   "language": "python",
   "name": "python3"
  },
  "language_info": {
   "codemirror_mode": {
    "name": "ipython",
    "version": 3
   },
   "file_extension": ".py",
   "mimetype": "text/x-python",
   "name": "python",
   "nbconvert_exporter": "python",
   "pygments_lexer": "ipython3",
   "version": "3.10.5"
  }
 },
 "nbformat": 4,
 "nbformat_minor": 5
}
